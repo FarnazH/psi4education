{
 "cells": [
  {
   "cell_type": "markdown",
   "metadata": {},
   "source": [
    "This lab activity is intended to teach students the mechanics of the Hartree-Fock procedure, without getting into the details of calculating the 1 and 2 electron integrals, by using the machinary of the Psi4 quantum chemistry software package.\n",
    "\n",
    "Prerequisite knowledge:  This lab assumes that the students understand the principles, though not the mathematics, of constructing the Fock matrix and that diagaonlizing the Fock matrix leads to the molecular orbital energies and coefficients.  The lab also assumes all the standard python pre-requisites of all Psi4Education labs.  \n",
    "\n",
    "Learning ojbectives:\n",
    "1. Recognize that the AO basis is not orthonormal and must be transformed.\n",
    "2. Transform a from one basis to another using a transformation matrix.\n",
    "3. Recognize the interative nature of the HF procedure and what leds to the need for the iterative process.  \n",
    "4. Define convergence and use convergence criteria in a self-consistent procedure. \n",
    "5. Calculate MO energies and coefficients by diagonalizing the Fock matrix.  \n",
    "\n",
    "Authors: Ashley Ringer McDonald (armcdona@calpoly.edu; ORCID: 0000-0002-4381-1239) and Dominic A. Sirianni (sirianni.dom@gmail.com; ORCID: )\n",
    "\n",
    "Copyright: Psi4Education Project, 2019\n"
   ]
  },
  {
   "cell_type": "markdown",
   "metadata": {},
   "source": [
    "## The Hartree-Fock procedure\n",
    "In this lab activity, you will be building and diagonalizing the Fock matrix to determine the MO coefficients and energies for a molecule.  We will be using the functions of the Psi4 quantum chemistry software package to compute the integrals we need.  The following notebook will lead you through setting up your molecule, establishing the basis set, and forming and diagonalizing the Fock matrix.  Be sure to run each cell as your proceed through the notebook."
   ]
  },
  {
   "cell_type": "code",
   "execution_count": 17,
   "metadata": {},
   "outputs": [],
   "source": [
    "# ==> Import Psi4 & NumPy <==\n",
    "import psi4\n",
    "import numpy as np"
   ]
  },
  {
   "cell_type": "markdown",
   "metadata": {},
   "source": [
    "### Specifying the molecule\n",
    "Before we can begin to implement the HF procedure, we need to specifcy the molecule and basis set that we will be using.  We will also set the memory usage for our calcluation and the output file name.  "
   ]
  },
  {
   "cell_type": "code",
   "execution_count": 18,
   "metadata": {},
   "outputs": [],
   "source": [
    "# ==> Set Basic Psi4 Options <==\n",
    "# Memory specification\n",
    "psi4.set_memory(int(5e8))\n",
    "numpy_memory = 2\n",
    "\n",
    "# Set output file\n",
    "psi4.core.set_output_file('output.dat', False)\n",
    "\n",
    "# Define Physicist's water -- don't forget C1 symmetry!\n",
    "mol = psi4.geometry(\"\"\"\n",
    "O\n",
    "H 1 1.1\n",
    "H 1 1.1 2 104\n",
    "symmetry c1\n",
    "\"\"\")\n",
    "\n",
    "# Set computation options\n",
    "psi4.set_options({'basis': 'cc-pvdz',\n",
    "                  'scf_type': 'pk',\n",
    "                  'e_convergence': 1e-8})"
   ]
  },
  {
   "cell_type": "markdown",
   "metadata": {},
   "source": [
    "The Hartree Fock procedure is iterative (more on this later).  We continue recalculating the energy until it converges to the level we specify.  The varible `E_conv` is where we set this level of convergence.  We also set a maximum number of iterations so that if our calculation does not converge, it eventually stops and lets us know that it did not converge.  "
   ]
  },
  {
   "cell_type": "code",
   "execution_count": 19,
   "metadata": {},
   "outputs": [],
   "source": [
    "# ==> Set default program options <==\n",
    "# Maximum SCF iterations\n",
    "MAXITER = 40\n",
    "# Energy convergence criterion\n",
    "E_conv = 1.0e-6"
   ]
  },
  {
   "cell_type": "markdown",
   "metadata": {},
   "source": [
    "Next, we need to build the wavefunction from the basis functions.  We store the wavefunction in a variable called `wfn`.  Next we have to set up a data structure, called a class, to calculate the molecular integrals.  We will call this data structure `mints`."
   ]
  },
  {
   "cell_type": "code",
   "execution_count": 20,
   "metadata": {},
   "outputs": [],
   "source": [
    "# ==> Compute static 1e- and 2e- quantities with Psi4 <==\n",
    "wfn = psi4.core.Wavefunction.build(mol, psi4.core.get_global_option('basis'))\n",
    "mints = psi4.core.MintsHelper(wfn.basisset())"
   ]
  },
  {
   "cell_type": "markdown",
   "metadata": {},
   "source": [
    "We use the function `ao_overlap` to calculate the overlap integrals between all the AO basis functions.  We cast this to a numpy array called `S`. "
   ]
  },
  {
   "cell_type": "code",
   "execution_count": 21,
   "metadata": {},
   "outputs": [],
   "source": [
    "# Overlap matrix\n",
    "S = np.asarray(mints.ao_overlap())"
   ]
  },
  {
   "cell_type": "markdown",
   "metadata": {},
   "source": [
    "Now that we have constructed a matrix of the overlap integrals, we can determine how many basis functions we have and how many occupied orbitals there are.  Since we know how many electrons our molecule has, this can be a good check to make sure our code is working correctly so far.   In the box below, use the function `nalpha()` acting on the wavefunction object we created above to determine the number of doubly occupied orbitals.  Save this answer as a variable called `ndocc`.  This should match your expectation for the molecule you chose.\n",
    "\n",
    "Then determine the number of basis functions.  Remember that your overlap matrix is of size NxN where N is the number of basis functions.  Use the numpy documentation to look up the `shape` function and use that function to determine the size of the `S` array.  Use that information to determine how many basis functions there are and save your answer in a variable called `nbf`."
   ]
  },
  {
   "cell_type": "code",
   "execution_count": 22,
   "metadata": {},
   "outputs": [
    {
     "name": "stdout",
     "output_type": "stream",
     "text": [
      "Number of occupied orbitals: 5\n",
      "Number of basis functions: 24\n"
     ]
    }
   ],
   "source": [
    "# This is the code we would expect the student to write\n",
    "ndocc = wfn.nalpha()\n",
    "size_overlap = S.shape\n",
    "#print('The size of S is', size_overlap)\n",
    "nbf = size_overlap[0]\n",
    "\n",
    "print(F'Number of occupied orbitals: {ndocc}')\n",
    "print(F'Number of basis functions: {nbf}') "
   ]
  },
  {
   "cell_type": "markdown",
   "metadata": {},
   "source": [
    "Now that our basis set checks out, we can build the electron-repulsion integral tensor, which calculates the electron repulsion between the atomic orbital wavefunctions, and the core Hamiltonian."
   ]
  },
  {
   "cell_type": "code",
   "execution_count": 23,
   "metadata": {},
   "outputs": [],
   "source": [
    "# Build ERI Tensor\n",
    "I = np.asarray(mints.ao_eri())\n",
    "\n",
    "# Build core Hamiltonian\n",
    "T = np.asarray(mints.ao_kinetic())\n",
    "V = np.asarray(mints.ao_potential())\n",
    "H = T + V"
   ]
  },
  {
   "cell_type": "markdown",
   "metadata": {},
   "source": [
    "Recall that if we had used the hydrogen atom wavefunctions as our basis set, the AO wavefunctions would all be orthonormal.  Since we used a real basis set of Gaussian wavefuctions, this may not be the case.  We need to check our the overlap integral array and see if we have an orthonormal basis."
   ]
  },
  {
   "cell_type": "markdown",
   "metadata": {},
   "source": [
    "Question:  If our basis was orthonormal, what would the overlap integral array look like?"
   ]
  },
  {
   "cell_type": "markdown",
   "metadata": {},
   "source": [
    "#### Student Answer Box\n",
    "Answer: It would be 1's along the diagonal and 0's for all other elements."
   ]
  },
  {
   "cell_type": "markdown",
   "metadata": {},
   "source": [
    "Construct an array of the same size as the overlap array (`S`) that has 1's along the diagonal and 0's everywhere else.  Use the numpy documentation to identify a function to do this.  Then compare that array to the `S` array to determine if the AO basis is orthonormal."
   ]
  },
  {
   "cell_type": "code",
   "execution_count": 24,
   "metadata": {},
   "outputs": [
    {
     "name": "stdout",
     "output_type": "stream",
     "text": [
      "The AO basis is orthonormal? False\n"
     ]
    }
   ],
   "source": [
    "## This is the code we would expect the student to write.\n",
    "size_S = S.shape[0]\n",
    "comparison_array = np.eye(size_S)\n",
    "#print(comparison_array)\n",
    "orthonormal_check = np.allclose(S, comparison_array)\n",
    "#print(orthonormal_check)\n",
    "print(F'The AO basis is orthonormal? {orthonormal_check}')"
   ]
  },
  {
   "cell_type": "markdown",
   "metadata": {},
   "source": [
    "Since our AO basis set was not orthonormal, we must construct an orthogonalization matrix, `A` such that ${\\bf A}^{\\dagger}{\\bf SA} = {\\bf 1}$, and cast it to a numpy array."
   ]
  },
  {
   "cell_type": "code",
   "execution_count": 25,
   "metadata": {},
   "outputs": [],
   "source": [
    "# ==> Construct AO orthogonalization matrix A <==\n",
    "A = mints.ao_overlap()\n",
    "A.power(-0.5, 1.e-16)\n",
    "A = np.asarray(A)"
   ]
  },
  {
   "cell_type": "markdown",
   "metadata": {},
   "source": [
    "Use the orthogonalization matrix `A` to transform the overlap matrix, `S`. Check the transformed overlap matrix to make sure it represents an orthonormal basis."
   ]
  },
  {
   "cell_type": "code",
   "execution_count": 26,
   "metadata": {},
   "outputs": [
    {
     "name": "stdout",
     "output_type": "stream",
     "text": [
      "Transformation success!\n"
     ]
    }
   ],
   "source": [
    "# This is the code we would expect the student to write\n",
    "S_p = A.dot(S).dot(A)\n",
    "transformation_check = np.allclose(S_p, comparison_array)\n",
    "#print(transformation_check)\n",
    "\n",
    "if transformation_check is True:\n",
    "    print('Transformation success!')\n",
    "else:\n",
    "    print(\"Whoops...something went wrong. Check that you've correctly built the transformation matrix.\")"
   ]
  },
  {
   "cell_type": "markdown",
   "metadata": {},
   "source": [
    "Now we would have to recompute the ERI and all the core Hamiltonian matrices in the new orthogonal basis **OR** we can just calculate orbital coefficient matrix in the transformed basis by diagonalizing the transformed Fock matrix, and then just go backwards and get the cofficients in the original AO basis.\n",
    "\n",
    "We see here the central premise of SCF:  To get the Fock matrix, we need the coefficient matrix, but to compute the coefficient matrix we need the Fock matrix.  So we start with a guess for the Fock matrix, which is the core Hamiltonian matrix that we already calculated.\n",
    "\n",
    "In the cell below, use the core Hamiltonian matrix as your initial guess for the Fock matrix. Transform it with the same A matrix you used above.  Look up the `linalg.eigh` function in the numpy documentation, and use it to diagonalize the transformed Fock matrix."
   ]
  },
  {
   "cell_type": "code",
   "execution_count": 27,
   "metadata": {},
   "outputs": [],
   "source": [
    "# This is the code we would expect the student to write\n",
    "\n",
    "# Transformed Fock matrix\n",
    "F_p = A.dot(H).dot(A)\n",
    "\n",
    "# Diagonalize F_p for eigenvalues & eigenvectors with NumPy\n",
    "e, C_p = np.linalg.eigh(F_p)"
   ]
  },
  {
   "cell_type": "markdown",
   "metadata": {},
   "source": [
    "Now that we have the coefficents in the transformed basis, we need to go back and get the coefficients in the original AO basis."
   ]
  },
  {
   "cell_type": "code",
   "execution_count": 28,
   "metadata": {},
   "outputs": [],
   "source": [
    "# Transform C_p back into AO basis\n",
    "C = A.dot(C_p)"
   ]
  },
  {
   "cell_type": "markdown",
   "metadata": {},
   "source": [
    "Next, we are going to construct the density matrix from the occupied orbitals.  To get a matrix of just the occupied orbitals, use the coefficient matrix in the original AO basis, and take a slice to include all rows and just the columns that represent the occupied orbitals."
   ]
  },
  {
   "cell_type": "code",
   "execution_count": 29,
   "metadata": {},
   "outputs": [],
   "source": [
    "# Grab occupied orbitals\n",
    "C_occ = C[:, :ndocc]"
   ]
  },
  {
   "cell_type": "markdown",
   "metadata": {},
   "source": [
    "To build the density matrix, we will use the numpy function `einsum`, one of the crown jewels of the numpy library.  In short, `einsum` lets you perform various combinations of multiplying, summing, and transposing matrices very efficiently.  A good tutorial about `einsum` can be found at http://ajcr.net/Basic-guide-to-einsum/.  To specify the operations you want to do, you use the **Ein**stein **Sum**mation convention."
   ]
  },
  {
   "cell_type": "code",
   "execution_count": 30,
   "metadata": {},
   "outputs": [],
   "source": [
    "# Build density matrix from occupied orbitals\n",
    "D = np.einsum('pi,qi->pq', C_occ, C_occ)"
   ]
  },
  {
   "cell_type": "markdown",
   "metadata": {},
   "source": [
    "Now we will use the density matrix to build the Fock matrix.  The code block below sets up the skelton of the Hartree-Fock procedure.  The basic steps are:\n",
    "1. Calculate the Fock Matrix from the density matrix and the nuclear repulsion energy (which we only need to calculate once at the beginning because we are invoking the the Born-Oppenheimer approximation thus making the nucleus stationary.  \n",
    "2. Calculate the energy from the Fock matrix.\n",
    "3. Check and see if the energy has converged by comparing the current energy to the previous energy and seeing if it is within the convergence threshold.  (You will write this section.)\n",
    "4. If the energy has not converged, transform the Fock matrix, and diagonalize the transformed Fock matrix to get the energy and MO coefficients.  Then transform back to the original AO basis, pull the occupied orbitals, and reconstruct the density matrix.  (You will write this section.)\n",
    "\n",
    "Follow the prompts below to complete your HF code."
   ]
  },
  {
   "cell_type": "code",
   "execution_count": 31,
   "metadata": {},
   "outputs": [
    {
     "name": "stdout",
     "output_type": "stream",
     "text": [
      "==> Starting SCF Iterations <==\n",
      "\n",
      "SCF Iteration 1: Energy = -68.98003273 dE = -68.98003273\n",
      "SCF Iteration 2: Energy = -69.64725443 dE = -0.66722169\n",
      "SCF Iteration 3: Energy = -72.84030309 dE = -3.19304867\n",
      "SCF Iteration 4: Energy = -72.89488391 dE = -0.05458081\n",
      "SCF Iteration 5: Energy = -74.12078065 dE = -1.22589674\n",
      "SCF Iteration 6: Energy = -74.86718195 dE = -0.74640130\n",
      "SCF Iteration 7: Energy = -75.41490878 dE = -0.54772683\n",
      "SCF Iteration 8: Energy = -75.70767221 dE = -0.29276343\n",
      "SCF Iteration 9: Energy = -75.86052421 dE = -0.15285200\n",
      "SCF Iteration 10: Energy = -75.93143852 dE = -0.07091432\n",
      "SCF Iteration 11: Energy = -75.96402440 dE = -0.03258587\n",
      "SCF Iteration 12: Energy = -75.97842921 dE = -0.01440481\n",
      "SCF Iteration 13: Energy = -75.98481699 dE = -0.00638779\n",
      "SCF Iteration 14: Energy = -75.98761283 dE = -0.00279584\n",
      "SCF Iteration 15: Energy = -75.98884089 dE = -0.00122806\n",
      "SCF Iteration 16: Energy = -75.98937775 dE = -0.00053686\n",
      "SCF Iteration 17: Energy = -75.98961294 dE = -0.00023518\n",
      "SCF Iteration 18: Energy = -75.98971577 dE = -0.00010284\n",
      "SCF Iteration 19: Energy = -75.98976078 dE = -0.00004501\n",
      "SCF Iteration 20: Energy = -75.98978047 dE = -0.00001969\n",
      "SCF Iteration 21: Energy = -75.98978909 dE = -0.00000861\n",
      "SCF Iteration 22: Energy = -75.98979285 dE = -0.00000377\n",
      "SCF Iteration 23: Energy = -75.98979450 dE = -0.00000165\n",
      "SCF Iteration 24: Energy = -75.98979522 dE = -0.00000072\n",
      "\n",
      "SCF converged.\n",
      "Final RHF Energy: -75.989795 [Eh]\n"
     ]
    }
   ],
   "source": [
    "# ==> Nuclear Repulsion Energy <==\n",
    "E_nuc = mol.nuclear_repulsion_energy()\n",
    "\n",
    "# ==> SCF Iterations <==\n",
    "# Pre-iteration energy declarations\n",
    "SCF_E = 0.0\n",
    "E_old = 0.0\n",
    "\n",
    "print('==> Starting SCF Iterations <==\\n')\n",
    "\n",
    "# Begin Iterations\n",
    "for scf_iter in range(1, MAXITER + 1):\n",
    "    # Build Fock matrix\n",
    "    J = np.einsum('pqrs,rs->pq', I, D)\n",
    "    K = np.einsum('prqs,rs->pq', I, D)\n",
    "    F = H + 2*J - K\n",
    "    \n",
    "    # Compute RHF energy; this use of einsum is matrix multiplication\n",
    "    SCF_E = np.einsum('pq,pq->', (H + F), D) + E_nuc\n",
    "    print(F'SCF Iteration {scf_iter}: Energy = {SCF_E:.8f} dE = {SCF_E - E_old:.8f}')\n",
    "    \n",
    "    # Check to see if the energy is converged.  If it is break out of the loop.\n",
    "    # If it is not, set the current energy E_old\n",
    "    \n",
    "    ## This is the code we would expect the student to write\n",
    "    if (abs(SCF_E - E_old) < E_conv):\n",
    "        break\n",
    "    E_old = SCF_E\n",
    "    \n",
    "    # Compute new orbital guess.  Remember the steps:\n",
    "    # 1. Transform the Fock matrix\n",
    "    # 2. Diagonalize the Fock matrix.\n",
    "    # 3. Tranform the coefficient matrix back to original AO basis set\n",
    "    # 4. Take a slice of the coefficient matrix of just the occupied orbitals.\n",
    "    # 5. Use the occupied orbitals to construct the density\n",
    "    \n",
    "    ## This is the code we would expect the student to write\n",
    "    F_p =  A.dot(F).dot(A)\n",
    "    e, C_p = np.linalg.eigh(F_p)\n",
    "    C = A.dot(C_p)\n",
    "    C_occ = C[:, :ndocc]\n",
    "    D = np.einsum('pi,qi->pq', C_occ, C_occ)\n",
    "    \n",
    "    # MAXITER exceeded?\n",
    "    if (scf_iter == MAXITER):\n",
    "        psi4.core.clean()\n",
    "        raise Exception(\"Maximum number of SCF iterations exceeded.\")\n",
    "\n",
    "# Post iterations\n",
    "print('\\nSCF converged.')\n",
    "print(F'Final RHF Energy: {SCF_E:.6f} [Eh]')"
   ]
  },
  {
   "cell_type": "markdown",
   "metadata": {},
   "source": [
    "Use the `psi4.energy` function to have psi4 calcluate the energy of your molecule.  Compare your results.  "
   ]
  },
  {
   "cell_type": "code",
   "execution_count": 32,
   "metadata": {},
   "outputs": [
    {
     "name": "stdout",
     "output_type": "stream",
     "text": [
      "-75.9897957853276\n"
     ]
    }
   ],
   "source": [
    "# Compare to Psi4\n",
    "SCF_E_psi = psi4.energy('SCF')\n",
    "print(SCF_E_psi)"
   ]
  },
  {
   "cell_type": "code",
   "execution_count": null,
   "metadata": {},
   "outputs": [],
   "source": []
  }
 ],
 "metadata": {
  "kernelspec": {
   "display_name": "Python 3",
   "language": "python",
   "name": "python3"
  },
  "language_info": {
   "codemirror_mode": {
    "name": "ipython",
    "version": 3
   },
   "file_extension": ".py",
   "mimetype": "text/x-python",
   "name": "python",
   "nbconvert_exporter": "python",
   "pygments_lexer": "ipython3",
   "version": "3.6.6"
  },
  "latex_envs": {
   "LaTeX_envs_menu_present": true,
   "autoclose": false,
   "autocomplete": true,
   "bibliofile": "biblio.bib",
   "cite_by": "apalike",
   "current_citInitial": 1,
   "eqLabelWithNumbers": true,
   "eqNumInitial": 1,
   "hotkeys": {
    "equation": "Ctrl-E",
    "itemize": "Ctrl-I"
   },
   "labels_anchors": false,
   "latex_user_defs": false,
   "report_style_numbering": true,
   "user_envs_cfg": true
  }
 },
 "nbformat": 4,
 "nbformat_minor": 2
}
